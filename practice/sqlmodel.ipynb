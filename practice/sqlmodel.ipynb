{
 "cells": [
  {
   "cell_type": "code",
   "execution_count": 1,
   "metadata": {},
   "outputs": [],
   "source": [
    "from sqlalchemy.ext.asyncio import AsyncEngine\n",
    "from sqlalchemy.orm import sessionmaker\n",
    "from sqlmodel import SQLModel, create_engine\n",
    "from sqlmodel.ext.asyncio.session import AsyncSession\n",
    "\n",
    "from src.config import Config\n",
    "from src.db.models import Product\n"
   ]
  },
  {
   "cell_type": "code",
   "execution_count": 2,
   "metadata": {},
   "outputs": [
    {
     "data": {
      "text/plain": [
       "<sqlalchemy.ext.asyncio.engine.AsyncEngine at 0x2026f5ffcc0>"
      ]
     },
     "execution_count": 2,
     "metadata": {},
     "output_type": "execute_result"
    }
   ],
   "source": [
    "async_engine = AsyncEngine(create_engine(url=Config.DATABASE_URL, echo=True))\n",
    "async_engine"
   ]
  },
  {
   "cell_type": "code",
   "execution_count": 3,
   "metadata": {},
   "outputs": [
    {
     "name": "stdout",
     "output_type": "stream",
     "text": [
      "2024-12-28 22:37:08,572 INFO sqlalchemy.engine.Engine select pg_catalog.version()\n",
      "2024-12-28 22:37:08,572 INFO sqlalchemy.engine.Engine [raw sql] ()\n",
      "2024-12-28 22:37:08,576 INFO sqlalchemy.engine.Engine select current_schema()\n",
      "2024-12-28 22:37:08,576 INFO sqlalchemy.engine.Engine [raw sql] ()\n",
      "2024-12-28 22:37:08,579 INFO sqlalchemy.engine.Engine show standard_conforming_strings\n",
      "2024-12-28 22:37:08,579 INFO sqlalchemy.engine.Engine [raw sql] ()\n",
      "2024-12-28 22:37:08,581 INFO sqlalchemy.engine.Engine BEGIN (implicit)\n",
      "initializing database...\n",
      "2024-12-28 22:37:08,584 INFO sqlalchemy.engine.Engine SELECT pg_catalog.pg_class.relname \n",
      "FROM pg_catalog.pg_class JOIN pg_catalog.pg_namespace ON pg_catalog.pg_namespace.oid = pg_catalog.pg_class.relnamespace \n",
      "WHERE pg_catalog.pg_class.relname = $1::VARCHAR AND pg_catalog.pg_class.relkind = ANY (ARRAY[$2::VARCHAR, $3::VARCHAR, $4::VARCHAR, $5::VARCHAR, $6::VARCHAR]) AND pg_catalog.pg_table_is_visible(pg_catalog.pg_class.oid) AND pg_catalog.pg_namespace.nspname != $7::VARCHAR\n",
      "2024-12-28 22:37:08,585 INFO sqlalchemy.engine.Engine [generated in 0.00064s] ('products', 'r', 'p', 'f', 'v', 'm', 'pg_catalog')\n",
      "2024-12-28 22:37:08,599 INFO sqlalchemy.engine.Engine \n",
      "CREATE TABLE products (\n",
      "\tuid UUID NOT NULL, \n",
      "\tname VARCHAR NOT NULL, \n",
      "\tunit VARCHAR NOT NULL, \n",
      "\tretail_price FLOAT NOT NULL, \n",
      "\tcost_price FLOAT NOT NULL, \n",
      "\tsupplier VARCHAR NOT NULL, \n",
      "\tmanufacturer VARCHAR NOT NULL, \n",
      "\tcreated_at TIMESTAMP WITHOUT TIME ZONE, \n",
      "\tupdate_at TIMESTAMP WITHOUT TIME ZONE, \n",
      "\tPRIMARY KEY (uid)\n",
      ")\n",
      "\n",
      "\n",
      "2024-12-28 22:37:08,600 INFO sqlalchemy.engine.Engine [no key 0.00083s] ()\n",
      "database initialized successfully\n",
      "2024-12-28 22:37:08,624 INFO sqlalchemy.engine.Engine COMMIT\n"
     ]
    }
   ],
   "source": [
    "async with async_engine.begin() as conn:\n",
    "    print(\"initializing database...\")\n",
    "    await conn.run_sync(SQLModel.metadata.create_all)\n",
    "    print(\"database initialized successfully\")\n"
   ]
  }
 ],
 "metadata": {
  "kernelspec": {
   "display_name": ".venv",
   "language": "python",
   "name": "python3"
  },
  "language_info": {
   "codemirror_mode": {
    "name": "ipython",
    "version": 3
   },
   "file_extension": ".py",
   "mimetype": "text/x-python",
   "name": "python",
   "nbconvert_exporter": "python",
   "pygments_lexer": "ipython3",
   "version": "3.11.0"
  }
 },
 "nbformat": 4,
 "nbformat_minor": 2
}
